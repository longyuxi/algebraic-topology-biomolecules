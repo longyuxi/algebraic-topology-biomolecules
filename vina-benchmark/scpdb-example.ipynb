{
 "cells": [
  {
   "attachments": {},
   "cell_type": "markdown",
   "metadata": {},
   "source": [
    "## Gameplan for this bs"
   ]
  },
  {
   "attachments": {},
   "cell_type": "markdown",
   "metadata": {},
   "source": [
    "1. Run Vina on all scPDB files and see output quality"
   ]
  },
  {
   "cell_type": "code",
   "execution_count": 1,
   "metadata": {},
   "outputs": [],
   "source": [
    "import os\n",
    "os.chdir('/home/longyuxi/Documents/algebraic-topology-biomolecules/vina-benchmark/scpdb-example/1a2b_1')\n",
    "adfr_root = '/home/longyuxi/ADFRsuite-1.0/bin'"
   ]
  },
  {
   "cell_type": "code",
   "execution_count": 2,
   "metadata": {},
   "outputs": [
    {
     "name": "stderr",
     "output_type": "stream",
     "text": [
      "==============================\n",
      "*** Open Babel Warning  in ReadMolecule\n",
      "  Failed to kekulize aromatic bonds in MOL2 file (title is 1a2b_GSP_1_protein)\n",
      "\n",
      "1 molecule converted\n"
     ]
    },
    {
     "name": "stdout",
     "output_type": "stream",
     "text": [
      "Sorry, there are no Gasteiger parameters available for atom protein:A:THR16:OG1\n",
      "Sorry, there are no Gasteiger parameters available for atom protein:A:THR34:OG1\n",
      "Unable to assign MAP type to atom Mg\n",
      "Sorry, there are no Gasteiger parameters available for atom protein:A:MG5179:MG\n"
     ]
    }
   ],
   "source": [
    "# Prepare the receptor\n",
    "assert os.system(f'obabel protein.mol2 -O protein.pdb') == 0\n",
    "assert os.system(f'{adfr_root}/prepare_receptor -r protein.pdb -o protein.pdbqt') == 0"
   ]
  },
  {
   "cell_type": "code",
   "execution_count": 3,
   "metadata": {},
   "outputs": [],
   "source": [
    "# Prepare the ligand\n",
    "assert os.system('mk_prepare_ligand.py -i ligand.sdf -o ligand.pdbqt') == 0"
   ]
  },
  {
   "cell_type": "code",
   "execution_count": 4,
   "metadata": {},
   "outputs": [
    {
     "name": "stderr",
     "output_type": "stream",
     "text": [
      "==============================\n",
      "*** Open Babel Warning  in ReadMolecule\n",
      "  Failed to kekulize aromatic bonds in MOL2 file (title is 1a2b_GSP_1_protein)\n",
      "\n"
     ]
    }
   ],
   "source": [
    "# Calculate bounding box\n",
    "from utils import calculate_bbox\n",
    "import pybel\n",
    "\n",
    "mols = list(pybel.readfile('mol2', 'protein.mol2'))\n",
    "assert len(mols) == 1\n",
    "mol = mols[0]\n",
    "bbox_center, bbox_lengths = calculate_bbox(mol)\n",
    "\n",
    "with open('vina_box.txt', 'w') as txt:\n",
    "    txt.write(f'center_x = {bbox_center[0]}\\ncenter_y = {bbox_center[1]}\\ncenter_z = {bbox_center[2]}\\nsize_x = 20.0\\nsize_y = 20.0\\nsize_z = 20.0')\n"
   ]
  },
  {
   "cell_type": "code",
   "execution_count": 14,
   "metadata": {},
   "outputs": [
    {
     "name": "stdout",
     "output_type": "stream",
     "text": [
      "AutoDock Vina v1.2.3\n",
      "#################################################################\n",
      "# If you used AutoDock Vina in your work, please cite:          #\n",
      "#                                                               #\n",
      "# J. Eberhardt, D. Santos-Martins, A. F. Tillack, and S. Forli  #\n",
      "# AutoDock Vina 1.2.0: New Docking Methods, Expanded Force      #\n",
      "# Field, and Python Bindings, J. Chem. Inf. Model. (2021)       #\n",
      "# DOI 10.1021/acs.jcim.1c00203                                  #\n",
      "#                                                               #\n",
      "# O. Trott, A. J. Olson,                                        #\n",
      "# AutoDock Vina: improving the speed and accuracy of docking    #\n",
      "# with a new scoring function, efficient optimization and       #\n",
      "# multithreading, J. Comp. Chem. (2010)                         #\n",
      "# DOI 10.1002/jcc.21334                                         #\n",
      "#                                                               #\n",
      "# Please see https://github.com/ccsb-scripps/AutoDock-Vina for  #\n",
      "# more information.                                             #\n",
      "#################################################################\n",
      "\n",
      "Scoring function : vina\n",
      "Rigid receptor: protein.pdbqt\n",
      "Ligand: ligand.pdbqt\n",
      "Grid center: X 11.4226 Y 22.0787 Z 23.3044\n",
      "Grid size  : X 20 Y 20 Z 20\n",
      "Grid space : 0.375\n",
      "Exhaustiveness: 32\n",
      "CPU: 0\n",
      "Verbosity: 1\n",
      "\n",
      "Computing Vina grid ... done.\n",
      "Performing docking (random seed: 1655256991) ... \n",
      "0%   10   20   30   40   50   60   70   80   90   100%\n",
      "|----|----|----|----|----|----|----|----|----|----|\n",
      "***************************************************\n",
      "\n",
      "mode |   affinity | dist from best mode\n",
      "     | (kcal/mol) | rmsd l.b.| rmsd u.b.\n",
      "-----+------------+----------+----------\n",
      "   1       -9.627          0          0\n",
      "   2       -9.383     0.9415      2.018\n",
      "   3       -6.479       1.32      2.481\n",
      "   4       -4.563      5.303      8.815\n",
      "   5       -3.686      5.785      9.404\n",
      "   6       -3.128      6.869      10.04\n",
      "   7       -2.932      5.569      8.597\n",
      "   8       -2.216      3.251      5.262\n",
      "   9        6.971      1.825      3.087\n"
     ]
    }
   ],
   "source": [
    "cmd = f'vina --receptor protein.pdbqt --ligand ligand.pdbqt \\\n",
    "       --config vina_box.txt \\\n",
    "       --exhaustiveness=32 --out ligand_vina_out.pdbqt'\n",
    "\n",
    "# cmd = f'vina --receptor protein.pdbqt --ligand ligand.pdbqt \\\n",
    "#        --autobox \\\n",
    "#        --exhaustiveness=32 --out ligand_vina_out.pdbqt'\n",
    "\n",
    "assert os.system(cmd) == 0"
   ]
  },
  {
   "cell_type": "code",
   "execution_count": 17,
   "metadata": {},
   "outputs": [],
   "source": [
    "# Compare against grouth truth\n",
    "from utils import calculate_rmsd\n",
    "\n",
    "gt = list(pybel.readfile('pdbqt', 'ligand.pdbqt'))\n",
    "assert len(gt) == 1\n",
    "gt = gt[0]\n",
    "\n",
    "# print(len(list(pybel.readfile('pdbqt', 'ligand_vina_out.pdbqt'))))\n",
    "\n",
    "with open('vina_prediction_rmsds.txt', 'w') as f:\n",
    "    for prediction in pybel.readfile('pdbqt', 'ligand_vina_out.pdbqt'):\n",
    "        f.write(f'{calculate_rmsd(gt, prediction)}\\n')"
   ]
  },
  {
   "cell_type": "code",
   "execution_count": null,
   "metadata": {},
   "outputs": [],
   "source": []
  }
 ],
 "metadata": {
  "kernelspec": {
   "display_name": "donaldlab",
   "language": "python",
   "name": "python3"
  },
  "language_info": {
   "codemirror_mode": {
    "name": "ipython",
    "version": 3
   },
   "file_extension": ".py",
   "mimetype": "text/x-python",
   "name": "python",
   "nbconvert_exporter": "python",
   "pygments_lexer": "ipython3",
   "version": "3.10.6"
  },
  "orig_nbformat": 4,
  "vscode": {
   "interpreter": {
    "hash": "eb053224fcc5015ed8da6d479f2102b8601d2425275cb1ee3d0a28d0e1b86f1a"
   }
  }
 },
 "nbformat": 4,
 "nbformat_minor": 2
}
